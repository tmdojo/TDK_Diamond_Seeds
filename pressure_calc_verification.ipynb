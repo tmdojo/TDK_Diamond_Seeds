{
 "cells": [
  {
   "cell_type": "markdown",
   "metadata": {},
   "source": [
    "# DEBUG OUTPUT from Arduino"
   ]
  },
  {
   "cell_type": "code",
   "execution_count": 1,
   "metadata": {},
   "outputs": [],
   "source": [
    "otp_data_read_0 = [\"01\",\"34\",\"74\"]\n",
    "otp_data_read_1 = [\"01\",\"E1\",\"85\"]\n",
    "otp_data_read_2 = [\"02\",\"AB\",\"4E\"]\n",
    "otp_data_read_3 = [\"0E\",\"F0\",\"6E\"]\n",
    "c1,c2,c3,c4 = 308.00,481.00,683.00,3824.00\n",
    "rawData = [\"AE\",\"69\",\"20\",\"49\",\"00\",\"CB\",\"6B\",\"C6\",\"2F\"]\n",
    "press_raw = 11430217\n",
    "temp_raw = 27590\n",
    "p_LUT = [3670508.25,7832320.50,12059716.00]\n",
    "A,B,C,t = 247159.23,-4018263293952.00,16206216.00,-5178.00\n",
    "press = 1017.6191"
   ]
  },
  {
   "cell_type": "markdown",
   "metadata": {},
   "source": [
    "# functions implementation in Python"
   ]
  },
  {
   "cell_type": "code",
   "execution_count": 2,
   "metadata": {},
   "outputs": [],
   "source": [
    "def parse_otp_data(otp_data_read):\n",
    "    print(\"data_read: 0x\"+\"\".join(otp_data_read))\n",
    "    otp_data = otp_data_read[0]+otp_data_read[1]\n",
    "    print(\"data: 0x\" + otp_data)\n",
    "    val = int(otp_data, 16)\n",
    "    print(\"16-bit big endian signed integer: \" + str(val))\n",
    "    return val"
   ]
  },
  {
   "cell_type": "code",
   "execution_count": 3,
   "metadata": {},
   "outputs": [],
   "source": [
    "def parse_raw_data(raw_data):\n",
    "    press_data = raw_data[0] + raw_data[1] + raw_data[3]\n",
    "    temp_data = raw_data[6] + raw_data[7]\n",
    "    press_val = int(press_data, 16)\n",
    "    temp_val = int(temp_data, 16)\n",
    "    print(\"RawData: \"+\",\".join(raw_data))\n",
    "    print(\"Pressure_data: 0x\" + press_data)\n",
    "    print(\"Temp_data: 0x\" + temp_data)\n",
    "    print(\"Pressure_val: {}\".format(press_val))\n",
    "    print(\"Temp_val: {}\".format(temp_val))\n",
    "    return (press_val, temp_val)"
   ]
  },
  {
   "cell_type": "code",
   "execution_count": 4,
   "metadata": {},
   "outputs": [],
   "source": [
    "class Invensense_Pressure_Conversion:\n",
    "    \"\"\" Class for conversion of the pressure and temperature output of the Invensense sensor\"\"\"\n",
    "    def __init__(self, sensor_constants): \n",
    "        \"\"\" \n",
    "        Initialize customer formula\n",
    "        Arguments:\n",
    "        sensor_constants -- list of 4 integers: [c1, c2, c3, c4] \n",
    "        \"\"\"\n",
    "        self.sensor_constants = sensor_constants\n",
    "        # configuration for Pressure Samples \n",
    "        self.p_Pa_calib = [45000.0, 80000.0, 105000.0] \n",
    "        self.LUT_lower = 3.5 * (2**20)\n",
    "        self.LUT_upper = 11.5 * (2**20) \n",
    "        self.quadr_factor = 1 / 16777216.0 \n",
    "        self.offst_factor = 2048.0\n",
    "        \n",
    "    def calculate_conversion_constants(self, p_Pa, p_LUT): \n",
    "        \"\"\"\n",
    "        calculate temperature dependent constants\n",
    "        Arguments:\n",
    "        p_Pa -- List of 3 values corresponding to applied pressure in Pa\n",
    "        p_LUT -- List of 3 values corresponding to the measured p_LUT values at the applied pressures. \n",
    "        \"\"\"\n",
    "        C = (p_LUT[0] * p_LUT[1] * (p_Pa[0] - p_Pa[1]) + p_LUT[1] * p_LUT[2] * (p_Pa[1] - p_Pa[2]) + p_LUT[2] * p_LUT[0] * (p_Pa[2] - p_Pa[0])) / \\\n",
    "        (p_LUT[2] * (p_Pa[0] - p_Pa[1]) + p_LUT[0] * (p_Pa[1] - p_Pa[2]) + p_LUT[1] * (p_Pa[2] - p_Pa[0]))\n",
    "        A = (p_Pa[0] * p_LUT[0] - p_Pa[1] * p_LUT[1] - (p_Pa[1] - p_Pa[0]) * C) / (p_LUT[0] - p_LUT[1]) \n",
    "        B = (p_Pa[0] - A) * (p_LUT[0] + C)\n",
    "        return [A, B, C]\n",
    "\n",
    "    def get_pressure(self, p_LSB, T_LSB):\n",
    "        \"\"\" \n",
    "        Convert an output from a calibrated sensor to a pressure in Pa.\n",
    "        Arguments:\n",
    "        p_LSB -- Raw pressure data from sensor\n",
    "        T_LSB -- Raw temperature data from sensor\n",
    "        \"\"\"\n",
    "        t = T_LSB - 32768.0\n",
    "        s1 = self.LUT_lower + float(self.sensor_constants[0] * t * t) * self.quadr_factor\n",
    "        s2 = self.offst_factor * self.sensor_constants[3] + float(self.sensor_constants[1] * t * t) * self.quadr_factor \n",
    "        s3 = self.LUT_upper + float(self.sensor_constants[2] * t * t) * self.quadr_factor\n",
    "        A, B, C = self.calculate_conversion_constants(self.p_Pa_calib, [s1, s2, s3])\n",
    "        return A + B / (C + p_LSB)\n",
    "\n"
   ]
  },
  {
   "cell_type": "raw",
   "metadata": {},
   "source": [
    "def read_otp_from_i2c():\n",
    "    # TODO: implement read from I2C\n",
    "    # refer to data sheet for I2C commands to read OTP \n",
    "    return 1000, 2000, 3000, 4000\n",
    "\n",
    "def read_raw_pressure_temp_from_i2c():\n",
    "    # TODO: implement read from I2C\n",
    "    # refer to data sheet for I2C commands to read pressure and temperature \n",
    "    return 8000000, 32000\n",
    "\n",
    "# Sample code to read\n",
    "#from Invensense_pressure_conversion import Invensense_pressure_conversion\n",
    "# -- initialization\n",
    "c1, c2, c3, c4 = read_otp_from_i2c()\n",
    "conversion = Invensense_Pressure_Conversion([c1, c2, c3, c4])\n",
    "# -- read raw pressure and temp data, calculate pressure \n",
    "p, T = read_raw_pressure_temp_from_i2c()\n",
    "pressure = conversion.get_pressure(p, T)\n",
    "print('Pressure: %f' % pressure)"
   ]
  },
  {
   "cell_type": "code",
   "execution_count": 5,
   "metadata": {},
   "outputs": [],
   "source": [
    "# taken from C:\\eMD-SmartMotion_ICM20789_20689_1.0.0\\EMD-App\\src\\ICM20789-DMP\\Invpres.c\n",
    "\n",
    "INVPRES_CRC8_INIT = 0xFF\n",
    "INVPRES_RESP_DWORD_LEN = 2\n",
    "INVPRES_CRC8_POLYNOM = 0x31\n",
    "\n",
    "def invpres_check_crc(frame):\n",
    "    crc = INVPRES_CRC8_INIT\n",
    "    for current_byte in range(INVPRES_RESP_DWORD_LEN):\n",
    "        crc ^= frame[current_byte]\n",
    "        for bit in range(8,0,-1):\n",
    "            if crc & 0x80:\n",
    "                crc = (crc << 1) ^ INVPRES_CRC8_POLYNOM\n",
    "            else:\n",
    "                crc = (crc << 1)\n",
    "    crc = crc & 0xFF # take only last byte\n",
    "    return crc\n"
   ]
  },
  {
   "cell_type": "code",
   "execution_count": 6,
   "metadata": {},
   "outputs": [],
   "source": [
    "def check_crc(data_array):\n",
    "    \"\"\"\n",
    "    data_array: a list of three hex strings e.g. ['BE', 'EF', '92']\n",
    "    calculates crc based on the first and second elements.\n",
    "    return True if CRC matches the third element\n",
    "    \"\"\"\n",
    "    val0 = int(data_array[0], 16)\n",
    "    val1 = int(data_array[1], 16)\n",
    "    crc = invpres_check_crc((val0, val1))\n",
    "    if crc == int(data_array[2], 16):\n",
    "        return True\n",
    "    else:\n",
    "        return False"
   ]
  },
  {
   "cell_type": "markdown",
   "metadata": {},
   "source": [
    "# Check CRC if raw reading values are correct"
   ]
  },
  {
   "cell_type": "code",
   "execution_count": 7,
   "metadata": {},
   "outputs": [
    {
     "data": {
      "text/plain": [
       "True"
      ]
     },
     "execution_count": 7,
     "metadata": {},
     "output_type": "execute_result"
    }
   ],
   "source": [
    "check_crc(otp_data_read_0)"
   ]
  },
  {
   "cell_type": "code",
   "execution_count": 8,
   "metadata": {},
   "outputs": [
    {
     "data": {
      "text/plain": [
       "True"
      ]
     },
     "execution_count": 8,
     "metadata": {},
     "output_type": "execute_result"
    }
   ],
   "source": [
    "check_crc(otp_data_read_1)"
   ]
  },
  {
   "cell_type": "code",
   "execution_count": 9,
   "metadata": {},
   "outputs": [
    {
     "data": {
      "text/plain": [
       "True"
      ]
     },
     "execution_count": 9,
     "metadata": {},
     "output_type": "execute_result"
    }
   ],
   "source": [
    "check_crc(otp_data_read_2)"
   ]
  },
  {
   "cell_type": "code",
   "execution_count": 10,
   "metadata": {},
   "outputs": [
    {
     "data": {
      "text/plain": [
       "True"
      ]
     },
     "execution_count": 10,
     "metadata": {},
     "output_type": "execute_result"
    }
   ],
   "source": [
    "check_crc(otp_data_read_3)"
   ]
  },
  {
   "cell_type": "code",
   "execution_count": 11,
   "metadata": {
    "scrolled": true
   },
   "outputs": [
    {
     "name": "stdout",
     "output_type": "stream",
     "text": [
      "True\n",
      "True\n",
      "True\n"
     ]
    }
   ],
   "source": [
    "print(check_crc(rawData[0:3]))\n",
    "print(check_crc(rawData[3:6]))\n",
    "print(check_crc(rawData[6:9]))"
   ]
  },
  {
   "cell_type": "markdown",
   "metadata": {},
   "source": [
    "# Now let's check the calculation"
   ]
  },
  {
   "cell_type": "code",
   "execution_count": 12,
   "metadata": {},
   "outputs": [
    {
     "name": "stdout",
     "output_type": "stream",
     "text": [
      "data_read: 0x013474\n",
      "data: 0x0134\n",
      "16-bit big endian signed integer: 308\n",
      "data_read: 0x01E185\n",
      "data: 0x01E1\n",
      "16-bit big endian signed integer: 481\n",
      "data_read: 0x02AB4E\n",
      "data: 0x02AB\n",
      "16-bit big endian signed integer: 683\n",
      "data_read: 0x0EF06E\n",
      "data: 0x0EF0\n",
      "16-bit big endian signed integer: 3824\n",
      "Arduino: c1,c2,c3,c4: 308.0,481.0,683.0,3824.0\n",
      "Python: c1,c2,c3,c4: 308,481,683,3824\n"
     ]
    }
   ],
   "source": [
    "c1p = parse_otp_data(otp_data_read_0)\n",
    "c2p = parse_otp_data(otp_data_read_1)\n",
    "c3p = parse_otp_data(otp_data_read_2)\n",
    "c4p = parse_otp_data(otp_data_read_3)\n",
    "print(\"Arduino: c1,c2,c3,c4: {},{},{},{}\".format(c1, c2, c3, c4))\n",
    "print(\"Python: c1,c2,c3,c4: {},{},{},{}\".format(c1p, c2p, c3p, c4p))"
   ]
  },
  {
   "cell_type": "code",
   "execution_count": 13,
   "metadata": {},
   "outputs": [
    {
     "name": "stdout",
     "output_type": "stream",
     "text": [
      "RawData: AE,69,20,49,00,CB,6B,C6,2F\n",
      "Pressure_data: 0xAE6949\n",
      "Temp_data: 0x6BC6\n",
      "Pressure_val: 11430217\n",
      "Temp_val: 27590\n",
      "Arduino: press_raw, temp_raw: 11430217,27590\n",
      "Python: press_raw, temp_raw: 11430217,27590\n"
     ]
    }
   ],
   "source": [
    "p, T = parse_raw_data(rawData)\n",
    "print(\"Arduino: press_raw, temp_raw: {},{}\".format(press_raw, temp_raw))\n",
    "print(\"Python: press_raw, temp_raw: {},{}\".format(p, T))"
   ]
  },
  {
   "cell_type": "code",
   "execution_count": 14,
   "metadata": {},
   "outputs": [
    {
     "name": "stdout",
     "output_type": "stream",
     "text": [
      "Arduino: pressure: 1017.6191\n",
      "Python: pressure: 1017.6191687645006\n"
     ]
    }
   ],
   "source": [
    "conversion = Invensense_Pressure_Conversion([c1p, c2p, c3p, c4p])\n",
    "pressure = conversion.get_pressure(p, T)\n",
    "print(\"Arduino: pressure: {}\".format(press))\n",
    "print(\"Python: pressure: {}\".format(pressure/100.))"
   ]
  },
  {
   "cell_type": "markdown",
   "metadata": {},
   "source": [
    "### YES!!!"
   ]
  }
 ],
 "metadata": {
  "kernelspec": {
   "display_name": "Python 3",
   "language": "python",
   "name": "python3"
  },
  "language_info": {
   "codemirror_mode": {
    "name": "ipython",
    "version": 3
   },
   "file_extension": ".py",
   "mimetype": "text/x-python",
   "name": "python",
   "nbconvert_exporter": "python",
   "pygments_lexer": "ipython3",
   "version": "3.7.3"
  }
 },
 "nbformat": 4,
 "nbformat_minor": 2
}
